{
  "nbformat": 4,
  "nbformat_minor": 0,
  "metadata": {
    "colab": {
      "provenance": [],
      "authorship_tag": "ABX9TyNhkmxpl6Lqo/oNVfM6uMuE",
      "include_colab_link": true
    },
    "kernelspec": {
      "name": "python3",
      "display_name": "Python 3"
    },
    "language_info": {
      "name": "python"
    }
  },
  "cells": [
    {
      "cell_type": "markdown",
      "metadata": {
        "id": "view-in-github",
        "colab_type": "text"
      },
      "source": [
        "<a href=\"https://colab.research.google.com/github/mahshid-khojandi/is-isomorphic-algorithm/blob/main/is_isomorphic_algorithm.ipynb\" target=\"_parent\"><img src=\"https://colab.research.google.com/assets/colab-badge.svg\" alt=\"Open In Colab\"/></a>"
      ]
    },
    {
      "cell_type": "code",
      "source": [
        "a = 'poo'\n",
        "b = 'see'\n",
        "def is_isomorphic(string1, string2):\n",
        "    li = {}\n",
        "    set_value = set()\n",
        "    if len(string1) != len(string2):\n",
        "        return False\n",
        "    for i in range(len(string1)):\n",
        "        if string1[i] not in li:\n",
        "            li[string1[i]] = string2[i]\n",
        "            set_value.add(string2[i])\n",
        "        else:\n",
        "            if li[string1[i]] != string2[i]:\n",
        "                return False\n",
        "    else:\n",
        "        return True\n",
        "print(is_isomorphic(a , b))"
      ],
      "metadata": {
        "colab": {
          "base_uri": "https://localhost:8080/"
        },
        "id": "PBYuOmSXsqvs",
        "outputId": "7110e47b-edf8-4803-c250-085989352e67"
      },
      "execution_count": 2,
      "outputs": [
        {
          "output_type": "stream",
          "name": "stdout",
          "text": [
            "True\n"
          ]
        }
      ]
    },
    {
      "cell_type": "markdown",
      "source": [
        "# **Explanation**\n",
        "\n",
        "---\n",
        "This algorithm takes two strings and determines whether these two strings are symmetrical to each other or not true or false\n",
        "\n",
        "**output**: true"
      ],
      "metadata": {
        "id": "3welR-RnzS3K"
      }
    }
  ]
}